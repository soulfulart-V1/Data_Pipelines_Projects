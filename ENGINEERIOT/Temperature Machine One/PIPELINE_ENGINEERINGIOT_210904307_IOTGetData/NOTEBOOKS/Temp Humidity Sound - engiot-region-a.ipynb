{
  "cells": [
    {
      "cell_type": "code",
      "execution_count": null,
      "metadata": {
        "autoscroll": "auto"
      },
      "outputs": [],
      "source": [
        "%pyflink\n",
        "\n",
        "import json\n",
        "import requests\n",
        "import numpy as np\n",
        "from pandas import DataFrame\n",
        "import matplotlib.pyplot as plt"
      ]
    },
    {
      "cell_type": "code",
      "execution_count": 1,
      "metadata": {
        "autoscroll": "auto"
      },
      "outputs": [],
      "source": [
        "%pyflink\n",
        "headers = {\n",
        "    'Kafka-Auto-Offset-Reset': 'earliest'   \n",
        "    }\n",
        "    \n",
        "response = requests.get('replace_url',\n",
        "headers=headers,\n",
        "auth=('user', 'pass')\n",
        ")\n",
        "        \n",
        "messages = json.loads(response.text.replace(\"'\", '\"'))"
      ]
    },
    {
      "cell_type": "code",
      "execution_count": 2,
      "metadata": {
        "autoscroll": "auto"
      },
      "outputs": [],
      "source": [
        "%pyflink\n",
        "device_data_field = 'physical_data'\n",
        "messages_physical_data = []\n",
        "\n",
        "for message in messages:\n",
        "    message_values = message[\"value\"].replace(\"'\", '\"')\n",
        "    message_values = message_values.replace(\"\\\\t\", '')\n",
        "    message_values = message_values.replace(\"\\\\n\", '')\n",
        "    message_values = json.loads(message_values)\n",
        "    messages_physical_data.append(message_values[device_data_field])\n",
        "\n",
        "final_dataframe = DataFrame.from_records(messages_physical_data)\n",
        "\n",
        "try:\n",
        "    final_dataframe = final_dataframe.drop(final_dataframe.columns[0])\n",
        "    \n",
        "except:\n",
        "    pass"
      ]
    },
    {
      "cell_type": "code",
      "execution_count": 3,
      "metadata": {
        "autoscroll": "auto"
      },
      "outputs": [],
      "source": [
        "%pyflink\n",
        "final_dataframe.head()"
      ]
    },
    {
      "cell_type": "code",
      "execution_count": 4,
      "metadata": {
        "autoscroll": "auto"
      },
      "outputs": [],
      "source": [
        "%pyflink\n",
        "y_pos = final_dataframe['temp'].tolist()\n",
        "y_pos = [ int(x) for x in y_pos ]\n",
        "\n",
        "x_pos = final_dataframe['recorded_time_device']\n",
        "\n",
        "\n",
        "plt.figure()\n",
        "# Create bars\n",
        "plt.plot(y_pos)\n",
        "\n",
        "# Show graphic\n",
        "z.show(plt)\n",
        "plt.close()"
      ]
    },
    {
      "cell_type": "raw",
      "metadata": {
        "format": "text/plain"
      },
      "source": [
        "%flink\n"
      ]
    }
  ],
  "metadata": {
    "kernelspec": {
      "language": "scala",
      "name": "spark2-scala"
    },
    "language_info": {
      "codemirror_mode": "text/x-scala",
      "file_extension": ".scala",
      "mimetype": "text/x-scala",
      "name": "scala",
      "pygments_lexer": "scala"
    },
    "name": "Temp Humidity Sound - engiot-region-a"
  },
  "nbformat": 4,
  "nbformat_minor": 2
}
